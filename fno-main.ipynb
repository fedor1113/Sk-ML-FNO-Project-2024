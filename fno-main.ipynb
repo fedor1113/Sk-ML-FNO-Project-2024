{
  "cells": [
    {
      "cell_type": "code",
      "source": [
        "! git clone https://github.com/miamvmian/Sk-ML-FNO-Project-2024.git"
      ],
      "metadata": {
        "id": "DZNeq-F6omoc"
      },
      "id": "DZNeq-F6omoc",
      "execution_count": null,
      "outputs": []
    },
    {
      "cell_type": "code",
      "execution_count": 24,
      "id": "ed8b6375-8c16-426d-aa50-be9aa300c634",
      "metadata": {
        "colab": {
          "base_uri": "https://localhost:8080/"
        },
        "id": "ed8b6375-8c16-426d-aa50-be9aa300c634",
        "outputId": "c8548924-fb68-48ba-ba54-711bcac96f5d"
      },
      "outputs": [
        {
          "output_type": "stream",
          "name": "stdout",
          "text": [
            "Sk-ML-FNO-Project-2024\n"
          ]
        }
      ],
      "source": [
        "# %run fdm_scheme_constructor.ipynb\n",
        "import os\n",
        "from pathlib import PurePath\n",
        "\n",
        "\n",
        "cwd = os.getcwd()\n",
        "p = PurePath(cwd)\n",
        "# os.chdir('Sk-ML-FNO-Project-2024')\n",
        "if p.parts[-1] != 'Sk-ML-FNO-Project-2024':\n",
        "  os.chdir('Sk-ML-FNO-Project-2024')\n",
        "print(f\"Current Folder is: {os.getcwd()}\")\n"
      ]
    },
    {
      "cell_type": "code",
      "source": [
        "# ! git clone import Adam\n",
        "# ! git clone import math\n",
        "import torch\n",
        "from torch import Tensor\n",
        "from typing import List, Optional\n",
        "from torch.optim.optimizer import Optimizer\n",
        "\n",
        "\n",
        "def adam(params: List[Tensor],\n",
        "         grads: List[Tensor],\n",
        "         exp_avgs: List[Tensor],\n",
        "         exp_avg_sqs: List[Tensor],\n",
        "         max_exp_avg_sqs: List[Tensor],\n",
        "         state_steps: List[int],\n",
        "         *,\n",
        "         amsgrad: bool,\n",
        "         beta1: float,\n",
        "         beta2: float,\n",
        "         lr: float,\n",
        "         weight_decay: float,\n",
        "         eps: float):\n",
        "    r\"\"\"Functional API that performs Adam algorithm computation.\n",
        "    See :class:`~torch.optim.Adam` for details.\n",
        "    \"\"\"\n",
        "\n",
        "    for i, param in enumerate(params):\n",
        "\n",
        "        grad = grads[i]\n",
        "        exp_avg = exp_avgs[i]\n",
        "        exp_avg_sq = exp_avg_sqs[i]\n",
        "        step = state_steps[i]\n",
        "\n",
        "        bias_correction1 = 1 - beta1 ** step\n",
        "        bias_correction2 = 1 - beta2 ** step\n",
        "\n",
        "        if weight_decay != 0:\n",
        "            grad = grad.add(param, alpha=weight_decay)\n",
        "\n",
        "        # Decay the first and second moment running average coefficient\n",
        "        exp_avg.mul_(beta1).add_(grad, alpha=1 - beta1)\n",
        "        exp_avg_sq.mul_(beta2).addcmul_(grad, grad.conj(), value=1 - beta2)\n",
        "        if amsgrad:\n",
        "            # Maintains the maximum of all 2nd moment running avg. till now\n",
        "            torch.maximum(max_exp_avg_sqs[i], exp_avg_sq, out=max_exp_avg_sqs[i])\n",
        "            # Use the max. for normalizing running avg. of gradient\n",
        "            denom = (max_exp_avg_sqs[i].sqrt() / math.sqrt(bias_correction2)).add_(eps)\n",
        "        else:\n",
        "            denom = (exp_avg_sq.sqrt() / math.sqrt(bias_correction2)).add_(eps)\n",
        "\n",
        "        step_size = lr / bias_correction1\n",
        "\n",
        "        param.addcdiv_(exp_avg, denom, value=-step_size)\n",
        "\n",
        "\n",
        "class Adam(Optimizer):\n",
        "    r\"\"\"Implements Adam algorithm.\n",
        "    It has been proposed in `Adam: A Method for Stochastic Optimization`_.\n",
        "    The implementation of the L2 penalty follows changes proposed in\n",
        "    `Decoupled Weight Decay Regularization`_.\n",
        "    Args:\n",
        "        params (iterable): iterable of parameters to optimize or dicts defining\n",
        "            parameter groups\n",
        "        lr (float, optional): learning rate (default: 1e-3)\n",
        "        betas (Tuple[float, float], optional): coefficients used for computing\n",
        "            running averages of gradient and its square (default: (0.9, 0.999))\n",
        "        eps (float, optional): term added to the denominator to improve\n",
        "            numerical stability (default: 1e-8)\n",
        "        weight_decay (float, optional): weight decay (L2 penalty) (default: 0)\n",
        "        amsgrad (boolean, optional): whether to use the AMSGrad variant of this\n",
        "            algorithm from the paper `On the Convergence of Adam and Beyond`_\n",
        "            (default: False)\n",
        "    .. _Adam\\: A Method for Stochastic Optimization:\n",
        "        https://arxiv.org/abs/1412.6980\n",
        "    .. _Decoupled Weight Decay Regularization:\n",
        "        https://arxiv.org/abs/1711.05101\n",
        "    .. _On the Convergence of Adam and Beyond:\n",
        "        https://openreview.net/forum?id=ryQu7f-RZ\n",
        "    \"\"\"\n",
        "\n",
        "    def __init__(self, params, lr=1e-3, betas=(0.9, 0.999), eps=1e-8,\n",
        "                 weight_decay=0, amsgrad=False):\n",
        "        if not 0.0 <= lr:\n",
        "            raise ValueError(\"Invalid learning rate: {}\".format(lr))\n",
        "        if not 0.0 <= eps:\n",
        "            raise ValueError(\"Invalid epsilon value: {}\".format(eps))\n",
        "        if not 0.0 <= betas[0] < 1.0:\n",
        "            raise ValueError(\"Invalid beta parameter at index 0: {}\".format(betas[0]))\n",
        "        if not 0.0 <= betas[1] < 1.0:\n",
        "            raise ValueError(\"Invalid beta parameter at index 1: {}\".format(betas[1]))\n",
        "        if not 0.0 <= weight_decay:\n",
        "            raise ValueError(\"Invalid weight_decay value: {}\".format(weight_decay))\n",
        "        defaults = dict(lr=lr, betas=betas, eps=eps,\n",
        "                        weight_decay=weight_decay, amsgrad=amsgrad)\n",
        "        super(Adam, self).__init__(params, defaults)\n",
        "\n",
        "    def __setstate__(self, state):\n",
        "        super(Adam, self).__setstate__(state)\n",
        "        for group in self.param_groups:\n",
        "            group.setdefault('amsgrad', False)\n",
        "\n",
        "    @torch.no_grad()\n",
        "    def step(self, closure=None):\n",
        "        \"\"\"Performs a single optimization step.\n",
        "        Args:\n",
        "            closure (callable, optional): A closure that reevaluates the model\n",
        "                and returns the loss.\n",
        "        \"\"\"\n",
        "        loss = None\n",
        "        if closure is not None:\n",
        "            with torch.enable_grad():\n",
        "                loss = closure()\n",
        "\n",
        "        for group in self.param_groups:\n",
        "            params_with_grad = []\n",
        "            grads = []\n",
        "            exp_avgs = []\n",
        "            exp_avg_sqs = []\n",
        "            max_exp_avg_sqs = []\n",
        "            state_steps = []\n",
        "            beta1, beta2 = group['betas']\n",
        "\n",
        "            for p in group['params']:\n",
        "                if p.grad is not None:\n",
        "                    params_with_grad.append(p)\n",
        "                    if p.grad.is_sparse:\n",
        "                        raise RuntimeError('Adam does not support sparse gradients, please consider SparseAdam instead')\n",
        "                    grads.append(p.grad)\n",
        "\n",
        "                    state = self.state[p]\n",
        "                    # Lazy state initialization\n",
        "                    if len(state) == 0:\n",
        "                        state['step'] = 0\n",
        "                        # Exponential moving average of gradient values\n",
        "                        state['exp_avg'] = torch.zeros_like(p, memory_format=torch.preserve_format)\n",
        "                        # Exponential moving average of squared gradient values\n",
        "                        state['exp_avg_sq'] = torch.zeros_like(p, memory_format=torch.preserve_format)\n",
        "                        if group['amsgrad']:\n",
        "                            # Maintains max of all exp. moving avg. of sq. grad. values\n",
        "                            state['max_exp_avg_sq'] = torch.zeros_like(p, memory_format=torch.preserve_format)\n",
        "\n",
        "                    exp_avgs.append(state['exp_avg'])\n",
        "                    exp_avg_sqs.append(state['exp_avg_sq'])\n",
        "\n",
        "                    if group['amsgrad']:\n",
        "                        max_exp_avg_sqs.append(state['max_exp_avg_sq'])\n",
        "\n",
        "                    # update the steps for each param group update\n",
        "                    state['step'] += 1\n",
        "                    # record the step after step update\n",
        "                    state_steps.append(state['step'])\n",
        "\n",
        "            adam(params_with_grad,\n",
        "                 grads,\n",
        "                 exp_avgs,\n",
        "                 exp_avg_sqs,\n",
        "                 max_exp_avg_sqs,\n",
        "                 state_steps,\n",
        "                 amsgrad=group['amsgrad'],\n",
        "                 beta1=beta1,\n",
        "                 beta2=beta2,\n",
        "                 lr=group['lr'],\n",
        "                 weight_decay=group['weight_decay'],\n",
        "                 eps=group['eps'])\n",
        "        return loss"
      ],
      "metadata": {
        "colab": {
          "base_uri": "https://localhost:8080/"
        },
        "id": "rijBDhyhnaPc",
        "outputId": "05d3d0f3-d8e1-4e8e-cba1-1ab6023b99f4"
      },
      "id": "rijBDhyhnaPc",
      "execution_count": 16,
      "outputs": [
        {
          "output_type": "stream",
          "name": "stdout",
          "text": [
            "fatal: repository 'import' does not exist\n",
            "fatal: repository 'import' does not exist\n"
          ]
        }
      ]
    },
    {
      "cell_type": "code",
      "execution_count": 4,
      "id": "e34fd8bb-c85e-4891-829b-23b4484e6a44",
      "metadata": {
        "id": "e34fd8bb-c85e-4891-829b-23b4484e6a44"
      },
      "outputs": [],
      "source": [
        "import itertools\n",
        "from functools import partial\n",
        "from math import erf as erf_, exp as exp_, sin\n",
        "from typing import Optional\n",
        "\n",
        "import matplotlib.pyplot as plt\n",
        "import numba as nb\n",
        "import numpy as np\n",
        "import numpy.typing as npt\n",
        "import numba.types as nbt\n",
        "import timeit\n",
        "import torch\n",
        "import torch.nn as nn\n",
        "import torch.nn.functional as F\n",
        "from numpy import pi, sqrt\n",
        "from sklearn.model_selection import train_test_split\n",
        "from torch.nn.parameter import Parameter\n",
        "from tqdm import tqdm"
      ]
    },
    {
      "cell_type": "code",
      "execution_count": null,
      "id": "2c862163-51f6-40c7-9c2f-55cb1952aea3",
      "metadata": {
        "id": "2c862163-51f6-40c7-9c2f-55cb1952aea3"
      },
      "outputs": [],
      "source": [
        "torch.manual_seed(42)\n",
        "np.random.seed(42)"
      ]
    },
    {
      "cell_type": "code",
      "execution_count": null,
      "id": "dbfe5123-05ce-4d79-80ad-129eae765404",
      "metadata": {
        "id": "dbfe5123-05ce-4d79-80ad-129eae765404"
      },
      "outputs": [],
      "source": [
        "class SpectralConv1d(nn.Module):\n",
        "    def __init__(self, in_channels, out_channels, modes):\n",
        "        super(SpectralConv1d, self).__init__()\n",
        "\n",
        "        \"\"\"1D Fourier layer: FFT, linear transform, and Inverse FFT.\n",
        "        \"\"\"\n",
        "\n",
        "        self.in_channels = in_channels\n",
        "        self.out_channels = out_channels\n",
        "\n",
        "        # Number of Fourier modes to multiply, at most floor(N/2) + 1\n",
        "        self.modes = modes\n",
        "\n",
        "        self.scale = 1. / (in_channels*out_channels)\n",
        "        self.weights = nn.Parameter(self.scale\n",
        "                                    * torch.rand(\n",
        "                                        self.in_channels,\n",
        "                                        self.out_channels,\n",
        "                                        self.modes,\n",
        "                                        dtype=torch.cdouble))\n",
        "\n",
        "        # self.einsum_path_ = None\n",
        "\n",
        "    def batch_complex_mult(self, input, weights):\n",
        "        \"\"\"Multiply the complex weights and input using the following\n",
        "            tensorial contraction along the in_channel:\n",
        "            (batch, in_channel, x_i) * (in_channel, out_channel, x_w)\n",
        "                -> (batch, out_channel, x)\n",
        "\n",
        "            Note that the x dim is kept, so there is no summation\n",
        "            going on along it.\n",
        "\n",
        "\n",
        "            In other words, perform a linear transform\n",
        "            in the complex plane.\n",
        "        \"\"\"\n",
        "\n",
        "        # if self.einsum_path_ is None:\n",
        "        #     path = np.einsum_path(\n",
        "        #         'bix,iox->box',\n",
        "        #         input,\n",
        "        #         weights,\n",
        "        #         optimize='optimal')[0]\n",
        "\n",
        "        # return np.einsum(\n",
        "        #     'bix,iox->box',\n",
        "        #     input,\n",
        "        #     weights,\n",
        "        #     optimize=self.einsum_path_)\n",
        "\n",
        "        return torch.einsum(\n",
        "            'bix,iox->box',\n",
        "            input,\n",
        "            weights)\n",
        "\n",
        "    def forward(self, x):\n",
        "        batchsize = x.shape[0]\n",
        "\n",
        "        # Compute Fourier coeff's up to a factor of modulus 1 (phase info)\n",
        "        x_ft = torch.fft.rfft(x)\n",
        "\n",
        "        # Multiply relevant Fourier modes\n",
        "        out_ft = torch.zeros(\n",
        "            batchsize,\n",
        "            self.out_channels,\n",
        "            x.size(-1)//2 + 1,\n",
        "            device=x.device,\n",
        "            dtype=torch.cfloat)\n",
        "        out_ft[:, :, :self.modes] = self.batch_complex_mult(\n",
        "            x_ft[:, :, :self.modes],\n",
        "            self.weights)\n",
        "\n",
        "        # Return to physical space\n",
        "        x = torch.fft.irfft(out_ft, n=x.size(-1))\n",
        "\n",
        "        return x"
      ]
    },
    {
      "cell_type": "code",
      "execution_count": null,
      "id": "eea38a6b-736f-49df-ba8c-13d8bb66f1aa",
      "metadata": {
        "id": "eea38a6b-736f-49df-ba8c-13d8bb66f1aa"
      },
      "outputs": [],
      "source": [
        "class FNO1d(nn.Module):\n",
        "    def __init__(self, modes, width):\n",
        "        super(FNO1d, self).__init__()\n",
        "\n",
        "        \"\"\"\n",
        "        The overall network. It contains 4 layers of the Fourier layer.\n",
        "        1. Lift the input to the desired channel dimension\n",
        "            by self.fc0_dim_lift.\n",
        "        2. 4 layers of integral operators u' = (W + K)(u) with\n",
        "            W defined by self.bias_w{k}; K defined by self.conv{k}.\n",
        "        3. Project from the channel space to some lower dimensional space\n",
        "            by self.fc1_dim_lower, apply a non-linear activation function,\n",
        "            and project back to the output space by self.fc2.\n",
        "\n",
        "        input: the solution of the initial condition and location (a(x), x)\n",
        "        input shape: (batchsize, x=s, c=2)\n",
        "        output: the solution of a later timestep\n",
        "        output shape: (batchsize, x=s, c=1)\n",
        "        \"\"\"\n",
        "\n",
        "        self.modes = modes\n",
        "        self.width = width\n",
        "        self.padding = 2  # pad the domain if input is non-periodic\n",
        "        self.fc0_dim_lift = nn.Linear(2, self.width) # input channel is 2: (a(x), x)\n",
        "\n",
        "        self.conv0 = SpectralConv1d(self.width, self.width, self.modes)\n",
        "        self.conv1 = SpectralConv1d(self.width, self.width, self.modes)\n",
        "        self.conv2 = SpectralConv1d(self.width, self.width, self.modes)\n",
        "        self.conv3 = SpectralConv1d(self.width, self.width, self.modes)\n",
        "        self.bias_w0 = nn.Conv1d(self.width, self.width, 1)\n",
        "        self.bias_w1 = nn.Conv1d(self.width, self.width, 1)\n",
        "        self.bias_w2 = nn.Conv1d(self.width, self.width, 1)\n",
        "        self.bias_w3 = nn.Conv1d(self.width, self.width, 1)\n",
        "\n",
        "        self.fc1_dim_lower = nn.Linear(self.width, 128)\n",
        "        self.fc2 = nn.Linear(128, 1)\n",
        "\n",
        "    def forward(self, x):\n",
        "        grid = self.get_grid(x.shape, x.device)\n",
        "        x = torch.cat((x, grid), dim=-1)\n",
        "        x = self.fc0_dim_lift(x)\n",
        "        x = x.permute(0, 2, 1)\n",
        "        x = F.pad(x, [0, self.padding]) # pad the domain if input is non-periodic\n",
        "\n",
        "        x1 = self.conv0(x)\n",
        "        x2 = self.bias_w0(x)\n",
        "        x = x1 + x2\n",
        "        x = F.gelu(x)\n",
        "\n",
        "        x1 = self.conv1(x)\n",
        "        x2 = self.bias_w1(x)\n",
        "        x = x1 + x2\n",
        "        x = F.gelu(x)\n",
        "\n",
        "        x1 = self.conv2(x)\n",
        "        x2 = self.bias_w2(x)\n",
        "        x = x1 + x2\n",
        "        x = F.gelu(x)\n",
        "\n",
        "        x1 = self.conv3(x)\n",
        "        x2 = self.bias_w3(x)\n",
        "        x = x1 + x2\n",
        "\n",
        "        x = x[..., :-self.padding] # pad the domain if input is non-periodic\n",
        "        x = x.permute(0, 2, 1)\n",
        "        x = self.fc1_dim_lower(x)\n",
        "        x = F.gelu(x)\n",
        "        x = self.fc2(x)\n",
        "\n",
        "        return x\n",
        "\n",
        "    def get_grid(self, shape, device):\n",
        "        batchsize, size_x = shape[0], shape[1]\n",
        "        gridx = torch.tensor(\n",
        "            np.linspace(0, 1, size_x),\n",
        "            dtype=torch.float64)\n",
        "        gridx = gridx.reshape(1, size_x, 1).repeat([batchsize, 1, 1])\n",
        "\n",
        "        return gridx.to(device)"
      ]
    },
    {
      "cell_type": "code",
      "execution_count": 6,
      "id": "a27e9496-858c-476f-afd0-31c2947a8223",
      "metadata": {
        "id": "a27e9496-858c-476f-afd0-31c2947a8223"
      },
      "outputs": [],
      "source": [
        "# from utilities3 import *\n",
        "\n",
        "\n",
        "# ntrain = 1000\n",
        "# ntest = 100\n",
        "\n",
        "# sub = 2**3 #subsampling rate\n",
        "# h = 2**13 // sub #total grid size divided by the subsampling rate\n",
        "# s = h\n",
        "\n",
        "# batch_size = 20\n",
        "# learning_rate = 0.001\n",
        "\n",
        "# epochs = 500\n",
        "# step_size = 50\n",
        "# gamma = 0.5\n",
        "\n",
        "# modes = 16\n",
        "# width = 64\n",
        "\n",
        "\n",
        "# ################################################################\n",
        "# # read data\n",
        "# ################################################################\n",
        "\n",
        "# # Data is of the shape (number of samples, grid size)\n",
        "# dataloader = MatReader('./burgers_data_R10.mat')\n",
        "# x_data = dataloader.read_field('a')[:,::sub]\n",
        "# y_data = dataloader.read_field('u')[:,::sub]\n",
        "\n",
        "# x_train = x_data[:ntrain,:]\n",
        "# y_train = y_data[:ntrain,:]\n",
        "# x_test = x_data[-ntest:,:]\n",
        "# y_test = y_data[-ntest:,:]\n",
        "\n",
        "# x_train = x_train.reshape(ntrain,s,1)\n",
        "# x_test = x_test.reshape(ntest,s,1)"
      ]
    },
    {
      "cell_type": "code",
      "execution_count": null,
      "id": "1c34675a-4c30-4a7b-b792-ed63603aa22a",
      "metadata": {
        "id": "1c34675a-4c30-4a7b-b792-ed63603aa22a"
      },
      "outputs": [],
      "source": [
        "full_a = np.loadtxt(\n",
        "    'gen-burgers-fisher-t0-small-out.csv', delimiter=',')\n",
        "full_u = np.loadtxt(\n",
        "    'gen-burgers-fisher-t0.1-small-out.csv', delimiter=',')"
      ]
    },
    {
      "cell_type": "code",
      "execution_count": null,
      "id": "24286235-69ea-47c9-9216-1d445d6f61a3",
      "metadata": {
        "id": "24286235-69ea-47c9-9216-1d445d6f61a3"
      },
      "outputs": [],
      "source": [
        "a_train, a_test, u_train, u_test = train_test_split(\n",
        "    # torch.tensor(full_a),\n",
        "    # torch.tensor(full_u),\n",
        "    torch.from_numpy(full_a),\n",
        "    torch.from_numpy(full_u),\n",
        "    test_size=0.33,\n",
        "    random_state=42)"
      ]
    },
    {
      "cell_type": "code",
      "execution_count": null,
      "id": "9019e11c-e266-47f5-b388-07437b7d1ef5",
      "metadata": {
        "id": "9019e11c-e266-47f5-b388-07437b7d1ef5"
      },
      "outputs": [],
      "source": [
        "batch_size = 20\n",
        "\n",
        "a_train = a_train.reshape(*a_train.shape, 1)\n",
        "# u_train = u_train.reshape(*u_train.shape, 1)\n",
        "\n",
        "a_test = a_test.reshape(*a_test.shape, 1)\n",
        "#u_test = u_test.reshape(*a_test.shape, 1)\n",
        "\n",
        "train_loader = torch.utils.data.DataLoader(\n",
        "    torch.utils.data.TensorDataset(a_train, u_train),\n",
        "    batch_size=batch_size,\n",
        "    shuffle=True)\n",
        "test_loader = torch.utils.data.DataLoader(\n",
        "    torch.utils.data.TensorDataset(a_test, u_test),\n",
        "    batch_size=batch_size,\n",
        "    shuffle=False)"
      ]
    },
    {
      "cell_type": "code",
      "execution_count": null,
      "id": "c5306a84-a416-482b-97f6-40ff576e6aae",
      "metadata": {
        "id": "c5306a84-a416-482b-97f6-40ff576e6aae"
      },
      "outputs": [],
      "source": [
        "modes = 16\n",
        "width = 64\n",
        "\n",
        "# model = FNO1d(modes, width).cuda()\n",
        "model = FNO1d(modes, width).double().cuda()\n",
        "# print(count_params(model))"
      ]
    },
    {
      "cell_type": "code",
      "execution_count": null,
      "id": "0f288079-d8f8-4bdf-a458-f98aac461326",
      "metadata": {
        "id": "0f288079-d8f8-4bdf-a458-f98aac461326"
      },
      "outputs": [],
      "source": [
        "def train_model(\n",
        "        epochs,\n",
        "        loss,\n",
        "        optimizer,\n",
        "        scheduler):\n",
        "    for epoch in tqdm(range(epochs)):\n",
        "        model.train()\n",
        "        t1 = timeit.default_timer()\n",
        "        train_mse = 0\n",
        "        train_l2 = 0\n",
        "\n",
        "        for x, y in tqdm(train_loader):\n",
        "            # x, y = x.cuda(), y.cuda()\n",
        "            x, y = x.cuda(), y.cuda()\n",
        "\n",
        "            optimizer.zero_grad()\n",
        "            out = model(x)\n",
        "\n",
        "            mse = F.mse_loss(\n",
        "                out.view(batch_size, -1),\n",
        "                y.view(batch_size, -1),\n",
        "                reduction='mean')\n",
        "            l2 = loss(\n",
        "                out.view(batch_size, -1),\n",
        "                y.view(batch_size, -1))\n",
        "            l2.backward()\n",
        "\n",
        "            optimizer.step()\n",
        "            train_mse += mse.item()\n",
        "            train_l2 += l2.item()\n",
        "\n",
        "        scheduler.step()\n",
        "        model.eval()\n",
        "        test_l2 = 0.0\n",
        "        with torch.no_grad():\n",
        "            for x, y in tqdm(test_loader):\n",
        "                # x, y = x.cuda(), y.cuda()\n",
        "                x, y = x.cuda(), y.cuda()\n",
        "\n",
        "                out = model(x)\n",
        "                test_l2 += loss(\n",
        "                    out.view(batch_size, -1),\n",
        "                    y.view(batch_size, -1)).item()\n",
        "\n",
        "        train_mse /= len(train_loader)\n",
        "        train_l2 /= u_train.shape[0]\n",
        "        test_l2 /= u_test.shape[0]\n",
        "\n",
        "        t2 = timeit.default_timer()\n",
        "        print(epoch, t2-t1, train_mse, train_l2, test_l2)"
      ]
    },
    {
      "cell_type": "code",
      "execution_count": 14,
      "id": "8a961e0a-98c9-46a8-8637-34c459e56bd9",
      "metadata": {
        "colab": {
          "base_uri": "https://localhost:8080/",
          "height": 124
        },
        "id": "8a961e0a-98c9-46a8-8637-34c459e56bd9",
        "outputId": "8af3ce42-e741-4e6f-ee78-208d0c7b32be"
      },
      "outputs": [
        {
          "output_type": "error",
          "ename": "SyntaxError",
          "evalue": "invalid syntax (<ipython-input-14-4d3dbb6de67e>, line 1)",
          "traceback": [
            "\u001b[0;36m  File \u001b[0;32m\"<ipython-input-14-4d3dbb6de67e>\"\u001b[0;36m, line \u001b[0;32m1\u001b[0m\n\u001b[0;31m    from .Sk-ML-FNO-Project-2024/Adam import Adam\u001b[0m\n\u001b[0m            ^\u001b[0m\n\u001b[0;31mSyntaxError\u001b[0m\u001b[0;31m:\u001b[0m invalid syntax\n"
          ]
        }
      ],
      "source": [
        "from Adam import Adam"
      ]
    },
    {
      "cell_type": "code",
      "execution_count": null,
      "id": "12bee098-a7db-48b7-b0eb-78ed2dfe5a2e",
      "metadata": {
        "id": "12bee098-a7db-48b7-b0eb-78ed2dfe5a2e"
      },
      "outputs": [],
      "source": [
        "class LpLoss(object):\n",
        "    def __init__(self, d=2, p=2, size_average=True, reduction=True):\n",
        "        super(LpLoss, self).__init__()\n",
        "\n",
        "        #Dimension and Lp-norm type are postive\n",
        "        assert d > 0 and p > 0\n",
        "\n",
        "        self.d = d\n",
        "        self.p = p\n",
        "        self.reduction = reduction\n",
        "        self.size_average = size_average\n",
        "\n",
        "    def abs(self, x, y):\n",
        "        num_examples = x.size()[0]\n",
        "\n",
        "        #Assume uniform mesh\n",
        "        h = 1.0 / (x.size()[1] - 1.0)\n",
        "\n",
        "        all_norms = (h**(self.d/self.p))*torch.norm(x.view(num_examples,-1) - y.view(num_examples,-1), self.p, 1)\n",
        "\n",
        "        if self.reduction:\n",
        "            if self.size_average:\n",
        "                return torch.mean(all_norms)\n",
        "            else:\n",
        "                return torch.sum(all_norms)\n",
        "\n",
        "        return all_norms\n",
        "\n",
        "    def rel(self, x, y):\n",
        "        num_examples = x.size()[0]\n",
        "\n",
        "        diff_norms = torch.norm(x.reshape(num_examples,-1) - y.reshape(num_examples,-1), self.p, 1)\n",
        "        y_norms = torch.norm(y.reshape(num_examples,-1), self.p, 1)\n",
        "\n",
        "        if self.reduction:\n",
        "            if self.size_average:\n",
        "                return torch.mean(diff_norms/y_norms)\n",
        "            else:\n",
        "                return torch.sum(diff_norms/y_norms)\n",
        "\n",
        "        return diff_norms/y_norms\n",
        "\n",
        "    def __call__(self, x, y):\n",
        "        return self.rel(x, y)"
      ]
    },
    {
      "cell_type": "code",
      "execution_count": null,
      "id": "7ccc41a0-c3e9-4247-99c5-7fa446407627",
      "metadata": {
        "id": "7ccc41a0-c3e9-4247-99c5-7fa446407627"
      },
      "outputs": [],
      "source": [
        "learning_rate = 0.001\n",
        "step_size = 50\n",
        "gamma = 0.5\n",
        "optimizer = Adam(\n",
        "    model.parameters(),\n",
        "    lr=learning_rate,\n",
        "    weight_decay=1e-4)\n",
        "\n",
        "scheduler = torch.optim.lr_scheduler.StepLR(\n",
        "    optimizer,\n",
        "    step_size=step_size,\n",
        "    gamma=gamma)\n",
        "\n",
        "myloss = LpLoss(size_average=False)"
      ]
    },
    {
      "cell_type": "code",
      "execution_count": null,
      "id": "18b91566-5441-4249-bdfe-3f958e57438f",
      "metadata": {
        "id": "18b91566-5441-4249-bdfe-3f958e57438f",
        "outputId": "86d5daa0-4200-4bee-9eb3-a880408458d4"
      },
      "outputs": [
        {
          "data": {
            "text/plain": [
              "'NO AVX'"
            ]
          },
          "execution_count": 27,
          "metadata": {},
          "output_type": "execute_result"
        }
      ],
      "source": [
        "torch.backends.cpu.get_cpu_capability()\n",
        "# torch.backends.nnpack.enabled = False"
      ]
    },
    {
      "cell_type": "code",
      "execution_count": null,
      "id": "6e67ba51-b5e4-49cc-a457-1067082cec7f",
      "metadata": {
        "id": "6e67ba51-b5e4-49cc-a457-1067082cec7f",
        "outputId": "11ee23a0-be05-48bc-b788-f57b455ad16c"
      },
      "outputs": [
        {
          "name": "stderr",
          "output_type": "stream",
          "text": [
            "  0%|                                                            | 0/20 [00:40<?, ?it/s]\n"
          ]
        },
        {
          "ename": "KeyboardInterrupt",
          "evalue": "",
          "output_type": "error",
          "traceback": [
            "\u001b[0;31m---------------------------------------------------------------------------\u001b[0m",
            "\u001b[0;31mKeyboardInterrupt\u001b[0m                         Traceback (most recent call last)",
            "Cell \u001b[0;32mIn[31], line 1\u001b[0m\n\u001b[0;32m----> 1\u001b[0m \u001b[43mtrain_model\u001b[49m\u001b[43m(\u001b[49m\n\u001b[1;32m      2\u001b[0m \u001b[43m    \u001b[49m\u001b[38;5;241;43m20\u001b[39;49m\u001b[43m,\u001b[49m\n\u001b[1;32m      3\u001b[0m \u001b[43m    \u001b[49m\u001b[43mmyloss\u001b[49m\u001b[43m,\u001b[49m\n\u001b[1;32m      4\u001b[0m \u001b[43m    \u001b[49m\u001b[43moptimizer\u001b[49m\u001b[43m,\u001b[49m\n\u001b[1;32m      5\u001b[0m \u001b[43m    \u001b[49m\u001b[43mscheduler\u001b[49m\u001b[43m)\u001b[49m\n",
            "Cell \u001b[0;32mIn[30], line 25\u001b[0m, in \u001b[0;36mtrain_model\u001b[0;34m(epochs, loss, optimizer, scheduler)\u001b[0m\n\u001b[1;32m     18\u001b[0m mse \u001b[38;5;241m=\u001b[39m F\u001b[38;5;241m.\u001b[39mmse_loss(\n\u001b[1;32m     19\u001b[0m     out\u001b[38;5;241m.\u001b[39mview(batch_size, \u001b[38;5;241m-\u001b[39m\u001b[38;5;241m1\u001b[39m),\n\u001b[1;32m     20\u001b[0m     y\u001b[38;5;241m.\u001b[39mview(batch_size, \u001b[38;5;241m-\u001b[39m\u001b[38;5;241m1\u001b[39m),\n\u001b[1;32m     21\u001b[0m     reduction\u001b[38;5;241m=\u001b[39m\u001b[38;5;124m'\u001b[39m\u001b[38;5;124mmean\u001b[39m\u001b[38;5;124m'\u001b[39m)\n\u001b[1;32m     22\u001b[0m l2 \u001b[38;5;241m=\u001b[39m loss(\n\u001b[1;32m     23\u001b[0m     out\u001b[38;5;241m.\u001b[39mview(batch_size, \u001b[38;5;241m-\u001b[39m\u001b[38;5;241m1\u001b[39m),\n\u001b[1;32m     24\u001b[0m     y\u001b[38;5;241m.\u001b[39mview(batch_size, \u001b[38;5;241m-\u001b[39m\u001b[38;5;241m1\u001b[39m))\n\u001b[0;32m---> 25\u001b[0m \u001b[43ml2\u001b[49m\u001b[38;5;241;43m.\u001b[39;49m\u001b[43mbackward\u001b[49m\u001b[43m(\u001b[49m\u001b[43m)\u001b[49m\n\u001b[1;32m     27\u001b[0m optimizer\u001b[38;5;241m.\u001b[39mstep()\n\u001b[1;32m     28\u001b[0m train_mse \u001b[38;5;241m+\u001b[39m\u001b[38;5;241m=\u001b[39m mse\u001b[38;5;241m.\u001b[39mitem()\n",
            "File \u001b[0;32m/usr/lib/python3.11/site-packages/torch/_tensor.py:492\u001b[0m, in \u001b[0;36mTensor.backward\u001b[0;34m(self, gradient, retain_graph, create_graph, inputs)\u001b[0m\n\u001b[1;32m    482\u001b[0m \u001b[38;5;28;01mif\u001b[39;00m has_torch_function_unary(\u001b[38;5;28mself\u001b[39m):\n\u001b[1;32m    483\u001b[0m     \u001b[38;5;28;01mreturn\u001b[39;00m handle_torch_function(\n\u001b[1;32m    484\u001b[0m         Tensor\u001b[38;5;241m.\u001b[39mbackward,\n\u001b[1;32m    485\u001b[0m         (\u001b[38;5;28mself\u001b[39m,),\n\u001b[0;32m   (...)\u001b[0m\n\u001b[1;32m    490\u001b[0m         inputs\u001b[38;5;241m=\u001b[39minputs,\n\u001b[1;32m    491\u001b[0m     )\n\u001b[0;32m--> 492\u001b[0m \u001b[43mtorch\u001b[49m\u001b[38;5;241;43m.\u001b[39;49m\u001b[43mautograd\u001b[49m\u001b[38;5;241;43m.\u001b[39;49m\u001b[43mbackward\u001b[49m\u001b[43m(\u001b[49m\n\u001b[1;32m    493\u001b[0m \u001b[43m    \u001b[49m\u001b[38;5;28;43mself\u001b[39;49m\u001b[43m,\u001b[49m\u001b[43m \u001b[49m\u001b[43mgradient\u001b[49m\u001b[43m,\u001b[49m\u001b[43m \u001b[49m\u001b[43mretain_graph\u001b[49m\u001b[43m,\u001b[49m\u001b[43m \u001b[49m\u001b[43mcreate_graph\u001b[49m\u001b[43m,\u001b[49m\u001b[43m \u001b[49m\u001b[43minputs\u001b[49m\u001b[38;5;241;43m=\u001b[39;49m\u001b[43minputs\u001b[49m\n\u001b[1;32m    494\u001b[0m \u001b[43m\u001b[49m\u001b[43m)\u001b[49m\n",
            "File \u001b[0;32m/usr/lib/python3.11/site-packages/torch/autograd/__init__.py:251\u001b[0m, in \u001b[0;36mbackward\u001b[0;34m(tensors, grad_tensors, retain_graph, create_graph, grad_variables, inputs)\u001b[0m\n\u001b[1;32m    246\u001b[0m     retain_graph \u001b[38;5;241m=\u001b[39m create_graph\n\u001b[1;32m    248\u001b[0m \u001b[38;5;66;03m# The reason we repeat the same comment below is that\u001b[39;00m\n\u001b[1;32m    249\u001b[0m \u001b[38;5;66;03m# some Python versions print out the first line of a multi-line function\u001b[39;00m\n\u001b[1;32m    250\u001b[0m \u001b[38;5;66;03m# calls in the traceback and some print out the last line\u001b[39;00m\n\u001b[0;32m--> 251\u001b[0m \u001b[43mVariable\u001b[49m\u001b[38;5;241;43m.\u001b[39;49m\u001b[43m_execution_engine\u001b[49m\u001b[38;5;241;43m.\u001b[39;49m\u001b[43mrun_backward\u001b[49m\u001b[43m(\u001b[49m\u001b[43m  \u001b[49m\u001b[38;5;66;43;03m# Calls into the C++ engine to run the backward pass\u001b[39;49;00m\n\u001b[1;32m    252\u001b[0m \u001b[43m    \u001b[49m\u001b[43mtensors\u001b[49m\u001b[43m,\u001b[49m\n\u001b[1;32m    253\u001b[0m \u001b[43m    \u001b[49m\u001b[43mgrad_tensors_\u001b[49m\u001b[43m,\u001b[49m\n\u001b[1;32m    254\u001b[0m \u001b[43m    \u001b[49m\u001b[43mretain_graph\u001b[49m\u001b[43m,\u001b[49m\n\u001b[1;32m    255\u001b[0m \u001b[43m    \u001b[49m\u001b[43mcreate_graph\u001b[49m\u001b[43m,\u001b[49m\n\u001b[1;32m    256\u001b[0m \u001b[43m    \u001b[49m\u001b[43minputs\u001b[49m\u001b[43m,\u001b[49m\n\u001b[1;32m    257\u001b[0m \u001b[43m    \u001b[49m\u001b[43mallow_unreachable\u001b[49m\u001b[38;5;241;43m=\u001b[39;49m\u001b[38;5;28;43;01mTrue\u001b[39;49;00m\u001b[43m,\u001b[49m\n\u001b[1;32m    258\u001b[0m \u001b[43m    \u001b[49m\u001b[43maccumulate_grad\u001b[49m\u001b[38;5;241;43m=\u001b[39;49m\u001b[38;5;28;43;01mTrue\u001b[39;49;00m\u001b[43m,\u001b[49m\n\u001b[1;32m    259\u001b[0m \u001b[43m\u001b[49m\u001b[43m)\u001b[49m\n",
            "\u001b[0;31mKeyboardInterrupt\u001b[0m: "
          ]
        }
      ],
      "source": [
        "train_model(\n",
        "    20,\n",
        "    myloss,\n",
        "    optimizer,\n",
        "    scheduler)"
      ]
    },
    {
      "cell_type": "code",
      "execution_count": null,
      "id": "3a30f37d-afb6-4139-828b-893a1ec4b062",
      "metadata": {
        "id": "3a30f37d-afb6-4139-828b-893a1ec4b062"
      },
      "outputs": [],
      "source": [
        "# def gen_burgers_fisher_init_cond(alpha=0, delta=1, n_pts=10000):\n",
        "#     a = 0.\n",
        "#     b = 1.\n",
        "#     dx = (b - a) / (n_pts - 1)\n",
        "#     x = np.zeros(n_pts)\n",
        "#     x = np.asarray([a + k*dx for k in range(n_pts)])\n",
        "\n",
        "#     return (0.5 + 0.5*np.tanh((-alpha*delta/(delta+1)*0.5*x)))**(1./delta)"
      ]
    },
    {
      "cell_type": "code",
      "execution_count": null,
      "id": "0a387679-1e08-4bf3-886d-ed401002174d",
      "metadata": {
        "id": "0a387679-1e08-4bf3-886d-ed401002174d"
      },
      "outputs": [],
      "source": [
        "# def gen_burgers_fisher_sol(\n",
        "#         alpha=1.,\n",
        "#         beta=0.0001,\n",
        "#         delta=1.,\n",
        "#         t_max=1.,\n",
        "#         n_pts=10000,\n",
        "#         n_time_slices=1000):\n",
        "#     a = 0.\n",
        "#     b = 1.\n",
        "#     dx = (b - a) / (n_pts - 1)\n",
        "#     x = np.zeros(n_pts)\n",
        "#     x = np.asarray([a + k*dx for k in range(n_pts)])\n",
        "#     arr = np.empty((n_time_slices, n_pts))\n",
        "\n",
        "#     dt = t_max / (n_time_slices - 1)\n",
        "\n",
        "#     for k in range(n_time_slices):\n",
        "#         t = k*dt\n",
        "#         arr[k, :] = (0.5\n",
        "#                   + 0.5*np.tanh((-alpha*delta/(delta+1)*0.5*(\n",
        "#                       x - (alpha/(delta+1) + beta*(delta+1)/alpha)*t))))**(1./delta)\n",
        "\n",
        "#     return arr"
      ]
    },
    {
      "cell_type": "code",
      "execution_count": null,
      "id": "b08fb8c8-682c-4bf2-ba50-187ef18889e5",
      "metadata": {
        "id": "b08fb8c8-682c-4bf2-ba50-187ef18889e5"
      },
      "outputs": [],
      "source": [
        "# gen_burgers_fisher_sol(\n",
        "#         alpha=1., beta=0.0001, delta=1, t_max=1., n_pts=10000, n_time_slices=1000)"
      ]
    },
    {
      "cell_type": "code",
      "execution_count": null,
      "id": "b8691042-54eb-4c17-aa94-18ae9fc39a86",
      "metadata": {
        "id": "b8691042-54eb-4c17-aa94-18ae9fc39a86"
      },
      "outputs": [],
      "source": [
        "def gen_burgers_fisher_sol(\n",
        "        alpha=1.,\n",
        "        beta=0.0001,\n",
        "        delta=1.,\n",
        "        t_max=1.,\n",
        "        n_pts=10000):\n",
        "    a = 0.\n",
        "    b = 1.\n",
        "    dx = (b - a) / (n_pts - 1)\n",
        "    x = np.zeros(n_pts)\n",
        "    x = np.asarray([a + k*dx for k in range(n_pts)])\n",
        "    arr = np.empty((1, n_pts))\n",
        "\n",
        "    arr[0, :] = (0.5\n",
        "                 + 0.5*np.tanh((-alpha*delta/(delta+1)*0.5*(\n",
        "                     x - (alpha/(delta+1) + beta*(delta+1)/alpha)*t_max))))**(1./delta)\n",
        "\n",
        "    return arr"
      ]
    },
    {
      "cell_type": "code",
      "execution_count": null,
      "id": "538e2245-723e-4ea6-8660-4d0022d86f47",
      "metadata": {
        "id": "538e2245-723e-4ea6-8660-4d0022d86f47"
      },
      "outputs": [],
      "source": [
        "import itertools\n",
        "\n",
        "\n",
        "def generate_solution_matrix(\n",
        "        alpha_range, beta_range, delta_range, t_max, n_pts):\n",
        "    rng = list(itertools.product(alpha_range, beta_range, delta_range))\n",
        "    arr = np.empty((len(rng), n_pts))\n",
        "    # arr = np.empty((n_pts, len(rng)))\n",
        "\n",
        "    for k, (alpha, beta, delta) in enumerate(rng):\n",
        "        arr[k, :] = gen_burgers_fisher_sol(\n",
        "            alpha, beta, delta, t_max, n_pts)\n",
        "        # arr[:, k] = gen_burgers_fisher_sol(\n",
        "        #     alpha, beta, delta, t_max, n_pts)\n",
        "\n",
        "    return arr"
      ]
    },
    {
      "cell_type": "code",
      "execution_count": null,
      "id": "a8954bee-401c-4e0d-936c-c29e1bc97415",
      "metadata": {
        "id": "a8954bee-401c-4e0d-936c-c29e1bc97415"
      },
      "outputs": [],
      "source": [
        "def equidistant_val_array(start, end, n_pts):\n",
        "    a = start\n",
        "    b = end\n",
        "    dx = (b - a) / (n_pts - 1)\n",
        "    x = np.zeros(n_pts)\n",
        "    x = np.asarray([a + k*dx for k in range(n_pts)])\n",
        "\n",
        "    return x"
      ]
    },
    {
      "cell_type": "code",
      "execution_count": null,
      "id": "d8976779-aaf4-459b-b31d-0338993dbbf3",
      "metadata": {
        "id": "d8976779-aaf4-459b-b31d-0338993dbbf3"
      },
      "outputs": [],
      "source": [
        "# alphas = equidistant_val_array(-10, 10, 20)\n",
        "alphas = [-0.0001]  # , 0.0001, 1, 500\n",
        "# alphas\n",
        "betas = equidistant_val_array(-0.4, 0.4, 8000)\n",
        "# betas\n",
        "deltas = [1]  # , 2, 3"
      ]
    },
    {
      "cell_type": "code",
      "execution_count": null,
      "id": "b636eea2-32cd-4840-af6b-a00bb42d13ad",
      "metadata": {
        "id": "b636eea2-32cd-4840-af6b-a00bb42d13ad"
      },
      "outputs": [],
      "source": [
        "# res = generate_solution_matrix(\n",
        "#         alphas, betas, deltas, 0., 10001)"
      ]
    },
    {
      "cell_type": "code",
      "execution_count": null,
      "id": "67e658c7-6a3e-46e4-9bd8-bc4701783636",
      "metadata": {
        "id": "67e658c7-6a3e-46e4-9bd8-bc4701783636"
      },
      "outputs": [],
      "source": [
        "# import pandas as pd\n",
        "\n",
        "\n",
        "# full_a = pd.read_csv('gen-burgers-fisher-t0-small-out.csv')\n",
        "# full_u = pd.read_csv('gen-burgers-fisher-t0.1-small-out.csv')\n",
        "# # train_data.head()"
      ]
    },
    {
      "cell_type": "code",
      "execution_count": null,
      "id": "f7c91992-00a6-41ab-a880-1ccb618e047d",
      "metadata": {
        "id": "f7c91992-00a6-41ab-a880-1ccb618e047d",
        "outputId": "326abc17-2c52-42ed-caa4-44b3b8bcb5ae"
      },
      "outputs": [
        {
          "data": {
            "text/plain": [
              "(10001, 8000)"
            ]
          },
          "execution_count": 66,
          "metadata": {},
          "output_type": "execute_result"
        }
      ],
      "source": [
        "# full_a.shape"
      ]
    },
    {
      "cell_type": "code",
      "execution_count": null,
      "id": "47f9acad-06da-4811-89d8-1ca812973d65",
      "metadata": {
        "id": "47f9acad-06da-4811-89d8-1ca812973d65",
        "outputId": "1f0de704-6402-4ff3-ffcc-6ea484ec2866"
      },
      "outputs": [
        {
          "data": {
            "text/plain": [
              "array([0.5      , 0.5      , 0.5      , ..., 0.5000125, 0.5000125,\n",
              "       0.5000125])"
            ]
          },
          "execution_count": 74,
          "metadata": {},
          "output_type": "execute_result"
        }
      ],
      "source": [
        "# full_a[:, 20]"
      ]
    },
    {
      "cell_type": "code",
      "execution_count": null,
      "id": "b1174d3f-a8c3-4638-af96-b035654579c3",
      "metadata": {
        "id": "b1174d3f-a8c3-4638-af96-b035654579c3",
        "outputId": "6d688601-0bfa-4f43-b8cd-34f6427491f0"
      },
      "outputs": [
        {
          "data": {
            "text/plain": [
              "array([0.49005132, 0.49005132, 0.49005132, ..., 0.49006381, 0.49006381,\n",
              "       0.49006381])"
            ]
          },
          "execution_count": 97,
          "metadata": {},
          "output_type": "execute_result"
        }
      ],
      "source": [
        "# full_u[:, 20]"
      ]
    },
    {
      "cell_type": "code",
      "execution_count": null,
      "id": "7938ff57-6eb3-4a88-8d2a-19be8b1d61d0",
      "metadata": {
        "id": "7938ff57-6eb3-4a88-8d2a-19be8b1d61d0",
        "outputId": "87095801-1371-413f-b79b-c5be39d8ecc2"
      },
      "outputs": [
        {
          "data": {
            "text/plain": [
              "0.00019999999999997797"
            ]
          },
          "execution_count": 106,
          "metadata": {},
          "output_type": "execute_result"
        }
      ],
      "source": [
        "# equidistant_val_array(-1., 1., 10001)[1] - equidistant_val_array(-1., 1., 10001)[0]\n",
        "# equidistant_val_array(-1., 1., 10000)\n",
        "# equidistant_val_array(-1., 1., 10001)[0]"
      ]
    },
    {
      "cell_type": "code",
      "execution_count": null,
      "id": "b5e5d9a2-6f43-4680-9391-23bb19d45bf6",
      "metadata": {
        "id": "b5e5d9a2-6f43-4680-9391-23bb19d45bf6",
        "outputId": "f6302d8d-e6d2-4264-8ec8-13f555f65bd5"
      },
      "outputs": [
        {
          "data": {
            "text/plain": [
              "0.0002"
            ]
          },
          "execution_count": 99,
          "metadata": {},
          "output_type": "execute_result"
        }
      ],
      "source": [
        "# 2/(10001-1)"
      ]
    },
    {
      "cell_type": "code",
      "execution_count": null,
      "id": "a7e66f24-104f-40eb-b9ca-50c2a817c51a",
      "metadata": {
        "id": "a7e66f24-104f-40eb-b9ca-50c2a817c51a"
      },
      "outputs": [],
      "source": [
        "# full_a.head(2)"
      ]
    },
    {
      "cell_type": "code",
      "execution_count": null,
      "id": "273644b8-3fc0-41c1-b436-e3a3b6fbcb6b",
      "metadata": {
        "id": "273644b8-3fc0-41c1-b436-e3a3b6fbcb6b",
        "outputId": "16523fd8-c86b-4bbd-b077-ac8d4d4f2c87"
      },
      "outputs": [
        {
          "data": {
            "text/plain": [
              "[<matplotlib.lines.Line2D at 0x7f8fb26eb9d0>]"
            ]
          },
          "execution_count": 53,
          "metadata": {},
          "output_type": "execute_result"
        },
        {
          "data": {
            "image/png": "[encoded data removed]",
            "text/plain": [
              "<Figure size 640x480 with 1 Axes>"
            ]
          },
          "metadata": {},
          "output_type": "display_data"
        }
      ],
      "source": [
        "# plt.plot(equidistant_val_array(-1, 1, 10001), gen_burgers_fisher_sol(\n",
        "#     -0.0001, 0.2, 1., t_max=50, n_pts=10001)[0])"
      ]
    },
    {
      "cell_type": "code",
      "execution_count": null,
      "id": "a03194a7-39b6-4b55-b61d-7a2f685a8206",
      "metadata": {
        "id": "a03194a7-39b6-4b55-b61d-7a2f685a8206",
        "outputId": "a88725ea-b45a-43a8-cff2-7b0977a5aeb1"
      },
      "outputs": [
        {
          "data": {
            "text/plain": [
              "[<matplotlib.lines.Line2D at 0x7f8fb885a5d0>]"
            ]
          },
          "execution_count": 36,
          "metadata": {},
          "output_type": "execute_result"
        },
        {
          "data": {
            "image/png": "[encoded data removed]",
            "text/plain": [
              "<Figure size 640x480 with 1 Axes>"
            ]
          },
          "metadata": {},
          "output_type": "display_data"
        }
      ],
      "source": [
        "# plt.plot(equidistant_val_array(-1, 1, 10000), res[:, 4000])"
      ]
    },
    {
      "cell_type": "code",
      "execution_count": null,
      "id": "e34fe2fd-0885-423a-9b9c-6ff0d6a1ccba",
      "metadata": {
        "id": "e34fe2fd-0885-423a-9b9c-6ff0d6a1ccba",
        "outputId": "dddbb5a0-3aa0-4316-9cb0-eaa300ee940b"
      },
      "outputs": [
        {
          "name": "stdout",
          "output_type": "stream",
          "text": [
            "[[0.51249743 0.51249743 0.51249743 ... 0.51248494 0.51248494 0.51248494]]\n"
          ]
        }
      ],
      "source": [
        "# print(gen_burgers_fisher_sol(\n",
        "#             0.0001, 0.001, t_max=50, n_pts=10000))"
      ]
    },
    {
      "cell_type": "code",
      "execution_count": null,
      "id": "5227437c-7066-4cdd-bf34-661175fbff1d",
      "metadata": {
        "id": "5227437c-7066-4cdd-bf34-661175fbff1d"
      },
      "outputs": [],
      "source": [
        "# np.savetxt(\n",
        "#     'gen-burgers-fisher-t0-small-out.csv',\n",
        "#     res,  # res.T,\n",
        "#     # header=','.join([\"x\", \"y\", \"z\"]),\n",
        "#     delimiter=',',\n",
        "#     # fmt='%.0f',\n",
        "#     comments='')"
      ]
    },
    {
      "cell_type": "code",
      "execution_count": null,
      "id": "1a620303-d3bd-47b5-80d3-07a0b0d0f627",
      "metadata": {
        "id": "1a620303-d3bd-47b5-80d3-07a0b0d0f627"
      },
      "outputs": [],
      "source": [
        "# del res"
      ]
    }
  ],
  "metadata": {
    "kernelspec": {
      "display_name": "Python 3 (ipykernel)",
      "language": "python",
      "name": "python3"
    },
    "language_info": {
      "codemirror_mode": {
        "name": "ipython",
        "version": 3
      },
      "file_extension": ".py",
      "mimetype": "text/x-python",
      "name": "python",
      "nbconvert_exporter": "python",
      "pygments_lexer": "ipython3",
      "version": "3.11.6"
    },
    "colab": {
      "provenance": []
    }
  },
  "nbformat": 4,
  "nbformat_minor": 5
}
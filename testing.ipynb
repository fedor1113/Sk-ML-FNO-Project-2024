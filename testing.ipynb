{
  "nbformat": 4,
  "nbformat_minor": 0,
  "metadata": {
    "colab": {
      "provenance": [],
      "authorship_tag": "ABX9TyMi+LijmhZqzILGwZ/ogEsj",
      "include_colab_link": true
    },
    "kernelspec": {
      "name": "python3",
      "display_name": "Python 3"
    },
    "language_info": {
      "name": "python"
    }
  },
  "cells": [
    {
      "cell_type": "markdown",
      "metadata": {
        "id": "view-in-github",
        "colab_type": "text"
      },
      "source": [
        "<a href=\"https://colab.research.google.com/github/miamvmian/Sk-ML-FNO-Project-2024/blob/main/testing.ipynb\" target=\"_parent\"><img src=\"https://colab.research.google.com/assets/colab-badge.svg\" alt=\"Open In Colab\"/></a>"
      ]
    },
    {
      "cell_type": "code",
      "source": [
        "! git clone https://github.com/miamvmian/Sk-ML-FNO-Project-2024.git"
      ],
      "metadata": {
        "colab": {
          "base_uri": "https://localhost:8080/"
        },
        "id": "cfZ8IdFDTFgz",
        "outputId": "7b733711-2eec-4429-a4ac-3c55871979ec"
      },
      "execution_count": 1,
      "outputs": [
        {
          "output_type": "stream",
          "name": "stdout",
          "text": [
            "Cloning into 'Sk-ML-FNO-Project-2024'...\n",
            "remote: Enumerating objects: 49, done.\u001b[K\n",
            "remote: Counting objects: 100% (49/49), done.\u001b[K\n",
            "remote: Compressing objects: 100% (49/49), done.\u001b[K\n",
            "remote: Total 49 (delta 16), reused 0 (delta 0), pack-reused 0\u001b[K\n",
            "Receiving objects: 100% (49/49), 20.75 MiB | 16.35 MiB/s, done.\n",
            "Resolving deltas: 100% (16/16), done.\n"
          ]
        }
      ]
    },
    {
      "cell_type": "code",
      "execution_count": 2,
      "metadata": {
        "colab": {
          "base_uri": "https://localhost:8080/"
        },
        "id": "Bt8jZ2zUSyvh",
        "outputId": "86262482-6036-441a-d055-1f1b7cd446d5"
      },
      "outputs": [
        {
          "output_type": "stream",
          "name": "stdout",
          "text": [
            "Current Folder is: /content/Sk-ML-FNO-Project-2024\n"
          ]
        }
      ],
      "source": [
        "import torch\n",
        "import os\n",
        "from pathlib import PurePath\n",
        "\n",
        "\n",
        "cwd = os.getcwd()\n",
        "p = PurePath(cwd)\n",
        "flist = os.listdir()\n",
        "\n",
        "mainfolder = 'Sk-ML-FNO-Project-2024'\n",
        "\n",
        "# os.chdir('Sk-ML-FNO-Project-2024')\n",
        "if p.parts[-1] != mainfolder and mainfolder in flist:\n",
        "  os.chdir(mainfolder)\n",
        "print(f\"Current Folder is: {os.getcwd()}\")\n",
        "\n",
        "# from google.colab import drive\n",
        "# drive.mount('/content/drive')"
      ]
    },
    {
      "cell_type": "code",
      "source": [
        "from Model import FNO1d\n",
        "modes = 16\n",
        "width = 64\n",
        "model = FNO1d(modes,width).double()\n",
        "state_dict = torch.load(\"fno-1d-10layers.pth\", map_location=torch.device('cpu'))\n",
        "model.load_state_dict(state_dict)"
      ],
      "metadata": {
        "colab": {
          "base_uri": "https://localhost:8080/"
        },
        "id": "KX1dkYKMUBsX",
        "outputId": "857bafa0-ec76-48ad-e0b3-2ebe2259c479"
      },
      "execution_count": 3,
      "outputs": [
        {
          "output_type": "execute_result",
          "data": {
            "text/plain": [
              "<All keys matched successfully>"
            ]
          },
          "metadata": {},
          "execution_count": 3
        }
      ]
    },
    {
      "cell_type": "code",
      "source": [
        "# # generator test data\n",
        "# from generator import gen_burgers_fisher_init_cond as init_cond\n",
        "# from generator import gen_burgers_fisher_sol as true_sol\n",
        "\n",
        "import numpy as np\n",
        "\n",
        "def gen_burgers_fisher_init_cond(alpha=0, delta=2, b=0.3, n_pts=10000):\n",
        "    a = 0.\n",
        "    # b = 1.\n",
        "    dx = (b - a) / (n_pts - 1)\n",
        "    x = np.zeros(n_pts)\n",
        "    x = np.asarray([a + k*dx for k in range(n_pts)])\n",
        "\n",
        "    return (0.5 + 0.5*np.tanh((-alpha*delta/(delta+1)*0.5*x)))**(1./delta)\n",
        "\n",
        "def gen_burgers_fisher_sol(\n",
        "        alpha=1.,\n",
        "        beta=0.0001,\n",
        "        delta=2.,\n",
        "        t=1.,\n",
        "        b=0.3,\n",
        "        n_pts=10000):\n",
        "    a = 0.\n",
        "    # b = 1.\n",
        "    dx = (b - a) / (n_pts - 1)\n",
        "    x = np.zeros(n_pts)\n",
        "    x = np.asarray([a + k*dx for k in range(n_pts)])\n",
        "    # arr = np.empty((n_time_slices, n_pts))\n",
        "\n",
        "    # dt = t_max / (n_time_slices - 1)\n",
        "\n",
        "    return (0.5 + 0.5*np.tanh((-alpha*delta/(delta+1)*0.5*(\n",
        "                      x - (alpha/(delta+1) + beta*(delta+1)/alpha)*t))))**(1./delta)\n",
        "\n",
        "\n",
        "\n",
        "np.random.seed(0)\n",
        "delta = 2\n",
        "beta = 0.0001\n",
        "\n",
        "# produce different alphas\n",
        "size=5\n",
        "alpha_samples = np.random.uniform(-2, 2,size=size)\n",
        "\n",
        "b = 1\n",
        "n_pts = 10000\n",
        "\n",
        "\n",
        "def t_sol():\n",
        "  t = np.random.uniform(0, 0.5)\n",
        "  init_cond = np.array([gen_burgers_fisher_init_cond(alpha=alphai, b=b, n_pts=n_pts)\n",
        "          for alphai in alpha_samples])\n",
        "  true_sol = np.array([gen_burgers_fisher_sol(alpha=alphai, t=t, b=b, n_pts=n_pts)\n",
        "          for alphai in alpha_samples])\n",
        "  return t, init_cond, true_sol\n",
        "\n",
        "\n",
        "t, init_cond, true_sol = t_sol()"
      ],
      "metadata": {
        "id": "KD-D0SsZUBn9"
      },
      "execution_count": 13,
      "outputs": []
    },
    {
      "cell_type": "code",
      "source": [
        "func_test = torch.from_numpy(init_cond)\n",
        "test = func_test.to(torch.double)\n",
        "func_test = test.reshape(*func_test.shape, 1)\n",
        "# func_test = func_test.cuda()\n",
        "\n",
        "model_res = model.forward(func_test)\n",
        "model_res = model_res.detach().cpu().numpy()"
      ],
      "metadata": {
        "id": "HiemlYSfvXeg"
      },
      "execution_count": 14,
      "outputs": []
    },
    {
      "cell_type": "code",
      "source": [
        "n=4\n",
        "\n",
        "import matplotlib.pyplot as plt\n",
        "plt.figure(figsize=(8, 5))\n",
        "\n",
        "plt.plot(true_sol[n],label=\"true\")\n",
        "plt.plot(model_res[n],label=\"predicted\")\n",
        "plt.legend()\n",
        "plt.title(f\"alpha={alpha_samples[n]:0.5f}, t={t:0.1e}\")\n"
      ],
      "metadata": {
        "colab": {
          "base_uri": "https://localhost:8080/",
          "height": 506
        },
        "id": "hokzRFP4vYw-",
        "outputId": "e055dda4-82fc-44ef-eb26-4aa1e430162a"
      },
      "execution_count": 17,
      "outputs": [
        {
          "output_type": "execute_result",
          "data": {
            "text/plain": [
              "Text(0.5, 1.0, 'alpha=-0.30538, t=3.2e-01')"
            ]
          },
          "metadata": {},
          "execution_count": 17
        },
        {
          "output_type": "display_data",
          "data": {
            "text/plain": [
              "<Figure size 800x500 with 1 Axes>"
            ],
            "image/png": "[encoded data removed]"
          },
          "metadata": {}
        }
      ]
    },
    {
      "cell_type": "code",
      "source": [],
      "metadata": {
        "id": "yV2wiIUSxod-"
      },
      "execution_count": null,
      "outputs": []
    }
  ]
}
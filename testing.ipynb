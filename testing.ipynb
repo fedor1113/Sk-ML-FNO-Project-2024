{
  "nbformat": 4,
  "nbformat_minor": 0,
  "metadata": {
    "colab": {
      "provenance": [],
      "authorship_tag": "ABX9TyPy8Br1O6jdInO1/V/d6BcF",
      "include_colab_link": true
    },
    "kernelspec": {
      "name": "python3",
      "display_name": "Python 3"
    },
    "language_info": {
      "name": "python"
    }
  },
  "cells": [
    {
      "cell_type": "markdown",
      "metadata": {
        "id": "view-in-github",
        "colab_type": "text"
      },
      "source": [
        "<a href=\"https://colab.research.google.com/github/miamvmian/Sk-ML-FNO-Project-2024/blob/main/testing.ipynb\" target=\"_parent\"><img src=\"https://colab.research.google.com/assets/colab-badge.svg\" alt=\"Open In Colab\"/></a>"
      ]
    },
    {
      "cell_type": "code",
      "source": [
        "! git clone https://github.com/miamvmian/Sk-ML-FNO-Project-2024.git"
      ],
      "metadata": {
        "colab": {
          "base_uri": "https://localhost:8080/"
        },
        "id": "cfZ8IdFDTFgz",
        "outputId": "aa6dd74d-c802-426e-be71-6472a228cd3d"
      },
      "execution_count": 1,
      "outputs": [
        {
          "output_type": "stream",
          "name": "stdout",
          "text": [
            "fatal: destination path 'Sk-ML-FNO-Project-2024' already exists and is not an empty directory.\n"
          ]
        }
      ]
    },
    {
      "cell_type": "code",
      "execution_count": 2,
      "metadata": {
        "colab": {
          "base_uri": "https://localhost:8080/"
        },
        "id": "Bt8jZ2zUSyvh",
        "outputId": "92c27d3e-535e-4545-e81c-dd64331c0daa"
      },
      "outputs": [
        {
          "output_type": "stream",
          "name": "stdout",
          "text": [
            "Current Folder is: /content/Sk-ML-FNO-Project-2024\n"
          ]
        }
      ],
      "source": [
        "import torch\n",
        "import os\n",
        "from pathlib import PurePath\n",
        "\n",
        "\n",
        "cwd = os.getcwd()\n",
        "p = PurePath(cwd)\n",
        "flist = os.listdir()\n",
        "\n",
        "mainfolder = 'Sk-ML-FNO-Project-2024'\n",
        "\n",
        "# os.chdir('Sk-ML-FNO-Project-2024')\n",
        "if p.parts[-1] != mainfolder and mainfolder in flist:\n",
        "  os.chdir(mainfolder)\n",
        "print(f\"Current Folder is: {os.getcwd()}\")\n",
        "\n",
        "# from google.colab import drive\n",
        "# drive.mount('/content/drive')"
      ]
    },
    {
      "cell_type": "code",
      "source": [
        "from Model import FNO1d\n",
        "modes = 16\n",
        "width = 64\n",
        "model = FNO1d(modes,width).double()\n",
        "state_dict = torch.load(\"fno-1d-10layers.pth\", map_location=torch.device('cpu'))\n",
        "model.load_state_dict(state_dict)"
      ],
      "metadata": {
        "colab": {
          "base_uri": "https://localhost:8080/"
        },
        "id": "KX1dkYKMUBsX",
        "outputId": "20443448-db62-467b-fb4c-270d326e25e2"
      },
      "execution_count": 4,
      "outputs": [
        {
          "output_type": "execute_result",
          "data": {
            "text/plain": [
              "<All keys matched successfully>"
            ]
          },
          "metadata": {},
          "execution_count": 4
        }
      ]
    },
    {
      "cell_type": "code",
      "source": [
        "# # generator test data\n",
        "# from generator import gen_burgers_fisher_init_cond as init_cond\n",
        "# from generator import gen_burgers_fisher_sol as true_sol\n",
        "\n",
        "import numpy as np\n",
        "\n",
        "def gen_burgers_fisher_init_cond(alpha=0, delta=2, b=0.3, n_pts=10000):\n",
        "    a = 0.\n",
        "    # b = 1.\n",
        "    dx = (b - a) / (n_pts - 1)\n",
        "    x = np.zeros(n_pts)\n",
        "    x = np.asarray([a + k*dx for k in range(n_pts)])\n",
        "\n",
        "    return (0.5 + 0.5*np.tanh((-alpha*delta/(delta+1)*0.5*x)))**(1./delta)\n",
        "\n",
        "def gen_burgers_fisher_sol(\n",
        "        alpha=1.,\n",
        "        beta=0.0001,\n",
        "        delta=2.,\n",
        "        t=1.,\n",
        "        b=0.3,\n",
        "        n_pts=10000):\n",
        "    a = 0.\n",
        "    # b = 1.\n",
        "    dx = (b - a) / (n_pts - 1)\n",
        "    x = np.zeros(n_pts)\n",
        "    x = np.asarray([a + k*dx for k in range(n_pts)])\n",
        "    # arr = np.empty((n_time_slices, n_pts))\n",
        "\n",
        "    # dt = t_max / (n_time_slices - 1)\n",
        "\n",
        "    return (0.5 + 0.5*np.tanh((-alpha*delta/(delta+1)*0.5*(\n",
        "                      x - (alpha/(delta+1) + beta*(delta+1)/alpha)*t))))**(1./delta)\n",
        "\n",
        "\n",
        "\n",
        "np.random.seed(0)\n",
        "delta = 2\n",
        "beta = 0.0001\n",
        "\n",
        "# produce different alphas\n",
        "size=5\n",
        "alpha_samples = np.random.uniform(-2, 2,size=size)\n",
        "\n",
        "b = 1\n",
        "n_pts = 10000\n",
        "\n",
        "\n",
        "def t_sol():\n",
        "  t = np.random.uniform(0.1, 1.5)\n",
        "  init_cond = np.array([gen_burgers_fisher_init_cond(alpha=alphai, b=b, n_pts=n_pts)\n",
        "          for alphai in alpha_samples])\n",
        "  true_sol = np.array([gen_burgers_fisher_sol(alpha=alphai, t=t, b=b, n_pts=n_pts)\n",
        "          for alphai in alpha_samples])\n",
        "  return t, init_cond, true_sol\n",
        "\n",
        "\n",
        "t, init_cond, true_sol = t_sol()"
      ],
      "metadata": {
        "id": "KD-D0SsZUBn9"
      },
      "execution_count": 11,
      "outputs": []
    },
    {
      "cell_type": "code",
      "source": [
        "func_test = torch.from_numpy(init_cond)\n",
        "test = func_test.to(torch.double)\n",
        "func_test = test.reshape(*func_test.shape, 1)\n",
        "# func_test = func_test.cuda()\n",
        "\n",
        "model_res = model.forward(func_test)\n",
        "model_res = model_res.detach().cpu().numpy()"
      ],
      "metadata": {
        "id": "HiemlYSfvXeg"
      },
      "execution_count": 13,
      "outputs": []
    },
    {
      "cell_type": "code",
      "source": [
        "import matplotlib.pyplot as plt\n",
        "plt.plot(true_sol[4],label=\"true\")\n",
        "plt.plot(model_res[4],label=\"predicted\")\n",
        "plt.legend()"
      ],
      "metadata": {
        "colab": {
          "base_uri": "https://localhost:8080/",
          "height": 447
        },
        "id": "hokzRFP4vYw-",
        "outputId": "23919491-3cfc-44d1-e539-327ab1ca7685"
      },
      "execution_count": 15,
      "outputs": [
        {
          "output_type": "execute_result",
          "data": {
            "text/plain": [
              "<matplotlib.legend.Legend at 0x7a1d30d8af80>"
            ]
          },
          "metadata": {},
          "execution_count": 15
        },
        {
          "output_type": "display_data",
          "data": {
            "text/plain": [
              "<Figure size 640x480 with 1 Axes>"
            ],
            "image/png": "[encoded data removed]"
          },
          "metadata": {}
        }
      ]
    },
    {
      "cell_type": "code",
      "source": [],
      "metadata": {
        "id": "yV2wiIUSxod-"
      },
      "execution_count": null,
      "outputs": []
    }
  ]
}
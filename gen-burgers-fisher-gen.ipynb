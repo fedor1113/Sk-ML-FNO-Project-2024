{
 "cells": [
  {
   "cell_type": "code",
   "execution_count": 1,
   "id": "e34fd8bb-c85e-4891-829b-23b4484e6a44",
   "metadata": {},
   "outputs": [],
   "source": [
    "import itertools\n",
    "from functools import partial\n",
    "from math import erf as erf_, exp as exp_, sin\n",
    "from typing import Optional\n",
    "\n",
    "import matplotlib.pyplot as plt\n",
    "import numba as nb\n",
    "import numpy as np\n",
    "import numpy.typing as npt\n",
    "import numba.types as nbt\n",
    "import timeit\n",
    "import torch\n",
    "import torch.nn as nn\n",
    "import torch.nn.functional as F\n",
    "from numpy import pi, sqrt\n",
    "from sklearn.model_selection import train_test_split\n",
    "from torch.nn.parameter import Parameter\n",
    "from tqdm import tqdm"
   ]
  },
  {
   "cell_type": "code",
   "execution_count": 2,
   "id": "2c862163-51f6-40c7-9c2f-55cb1952aea3",
   "metadata": {},
   "outputs": [],
   "source": [
    "torch.manual_seed(42)\n",
    "np.random.seed(42)"
   ]
  },
  {
   "cell_type": "code",
   "execution_count": 2,
   "id": "3a30f37d-afb6-4139-828b-893a1ec4b062",
   "metadata": {},
   "outputs": [],
   "source": [
    "# def gen_burgers_fisher_init_cond(alpha=0, delta=1, n_pts=10000):\n",
    "#     a = 0.\n",
    "#     b = 1.\n",
    "#     dx = (b - a) / (n_pts - 1)\n",
    "#     x = np.zeros(n_pts)\n",
    "#     x = np.asarray([a + k*dx for k in range(n_pts)])\n",
    "\n",
    "#     return (0.5 + 0.5*np.tanh((-alpha*delta/(delta+1)*0.5*x)))**(1./delta)"
   ]
  },
  {
   "cell_type": "code",
   "execution_count": 3,
   "id": "0a387679-1e08-4bf3-886d-ed401002174d",
   "metadata": {},
   "outputs": [],
   "source": [
    "# def gen_burgers_fisher_sol(\n",
    "#         alpha=1.,\n",
    "#         beta=0.0001,\n",
    "#         delta=1.,\n",
    "#         t_max=1.,\n",
    "#         n_pts=10000,\n",
    "#         n_time_slices=1000):\n",
    "#     a = 0.\n",
    "#     b = 1.\n",
    "#     dx = (b - a) / (n_pts - 1)\n",
    "#     x = np.zeros(n_pts)\n",
    "#     x = np.asarray([a + k*dx for k in range(n_pts)])\n",
    "#     arr = np.empty((n_time_slices, n_pts))\n",
    "\n",
    "#     dt = t_max / (n_time_slices - 1)\n",
    "\n",
    "#     for k in range(n_time_slices):\n",
    "#         t = k*dt\n",
    "#         arr[k, :] = (0.5\n",
    "#                   + 0.5*np.tanh((-alpha*delta/(delta+1)*0.5*(\n",
    "#                       x - (alpha/(delta+1) + beta*(delta+1)/alpha)*t))))**(1./delta)\n",
    "\n",
    "#     return arr"
   ]
  },
  {
   "cell_type": "code",
   "execution_count": 1,
   "id": "b08fb8c8-682c-4bf2-ba50-187ef18889e5",
   "metadata": {},
   "outputs": [],
   "source": [
    "# gen_burgers_fisher_sol(\n",
    "#         alpha=1., beta=0.0001, delta=1, t_max=1., n_pts=10000, n_time_slices=1000)"
   ]
  },
  {
   "cell_type": "code",
   "execution_count": 4,
   "id": "b8691042-54eb-4c17-aa94-18ae9fc39a86",
   "metadata": {},
   "outputs": [],
   "source": [
    "def gen_burgers_fisher_sol(\n",
    "        alpha=1.,\n",
    "        beta=0.0001,\n",
    "        delta=1.,\n",
    "        t_max=1.,\n",
    "        n_pts=10000):\n",
    "    a = 0.\n",
    "    b = 1.\n",
    "    dx = (b - a) / (n_pts - 1)\n",
    "    x = np.zeros(n_pts)\n",
    "    x = np.asarray([a + k*dx for k in range(n_pts)])\n",
    "    arr = np.empty((1, n_pts))\n",
    "\n",
    "    arr[0, :] = (0.5\n",
    "                 + 0.5*np.tanh((-alpha*delta/(delta+1)*0.5*(\n",
    "                     x - (alpha/(delta+1) + beta*(delta+1)/alpha)*t_max))))**(1./delta)\n",
    "\n",
    "    return arr"
   ]
  },
  {
   "cell_type": "code",
   "execution_count": 5,
   "id": "538e2245-723e-4ea6-8660-4d0022d86f47",
   "metadata": {},
   "outputs": [],
   "source": [
    "import itertools\n",
    "\n",
    "\n",
    "def generate_solution_matrix(\n",
    "        alpha_range, beta_range, delta_range, t_max, n_pts):\n",
    "    rng = list(itertools.product(alpha_range, beta_range, delta_range))\n",
    "    arr = np.empty((len(rng), n_pts))\n",
    "    # arr = np.empty((n_pts, len(rng)))\n",
    "    \n",
    "    for k, (alpha, beta, delta) in enumerate(rng):\n",
    "        arr[k, :] = gen_burgers_fisher_sol(\n",
    "            alpha, beta, delta, t_max, n_pts)\n",
    "        # arr[:, k] = gen_burgers_fisher_sol(\n",
    "        #     alpha, beta, delta, t_max, n_pts)\n",
    "\n",
    "    return arr"
   ]
  },
  {
   "cell_type": "code",
   "execution_count": 6,
   "id": "a8954bee-401c-4e0d-936c-c29e1bc97415",
   "metadata": {},
   "outputs": [],
   "source": [
    "def equidistant_val_array(start, end, n_pts):\n",
    "    a = start\n",
    "    b = end\n",
    "    dx = (b - a) / (n_pts - 1)\n",
    "    x = np.zeros(n_pts)\n",
    "    x = np.asarray([a + k*dx for k in range(n_pts)])\n",
    "\n",
    "    return x"
   ]
  },
  {
   "cell_type": "code",
   "execution_count": 48,
   "id": "d8976779-aaf4-459b-b31d-0338993dbbf3",
   "metadata": {},
   "outputs": [],
   "source": [
    "# alphas = equidistant_val_array(-10, 10, 20)\n",
    "# alphas = [-0.0001]  # , 0.0001, 1, 500\n",
    "alphas = equidistant_val_array(-2, 2, 8000)\n",
    "# alphas\n",
    "# betas = equidistant_val_array(-0.4, 0.4, 8000)\n",
    "betas = [0.0001]\n",
    "# betas\n",
    "deltas = [2]  # 1, 2, 3"
   ]
  },
  {
   "cell_type": "code",
   "execution_count": 55,
   "id": "b636eea2-32cd-4840-af6b-a00bb42d13ad",
   "metadata": {},
   "outputs": [],
   "source": [
    "# Set t to 0. and then 5. here changing csv names below appropriately\n",
    "# to generate the dataset\n",
    "res = generate_solution_matrix(\n",
    "        alphas, betas, deltas, 5., 10001)"
   ]
  },
  {
   "cell_type": "code",
   "execution_count": 57,
   "id": "67e658c7-6a3e-46e4-9bd8-bc4701783636",
   "metadata": {},
   "outputs": [],
   "source": [
    "# import pandas as pd\n",
    "\n",
    "\n",
    "# full_a = pd.read_csv('gen-burgers-fisher-t0-small-out.csv')\n",
    "# full_u = pd.read_csv('gen-burgers-fisher-t0.1-small-out.csv')\n",
    "# # train_data.head()"
   ]
  },
  {
   "cell_type": "code",
   "execution_count": 66,
   "id": "f7c91992-00a6-41ab-a880-1ccb618e047d",
   "metadata": {},
   "outputs": [
    {
     "data": {
      "text/plain": [
       "(10001, 8000)"
      ]
     },
     "execution_count": 66,
     "metadata": {},
     "output_type": "execute_result"
    }
   ],
   "source": [
    "# full_a.shape"
   ]
  },
  {
   "cell_type": "code",
   "execution_count": 74,
   "id": "47f9acad-06da-4811-89d8-1ca812973d65",
   "metadata": {},
   "outputs": [
    {
     "data": {
      "text/plain": [
       "array([0.5      , 0.5      , 0.5      , ..., 0.5000125, 0.5000125,\n",
       "       0.5000125])"
      ]
     },
     "execution_count": 74,
     "metadata": {},
     "output_type": "execute_result"
    }
   ],
   "source": [
    "# full_a[:, 20]"
   ]
  },
  {
   "cell_type": "code",
   "execution_count": 97,
   "id": "b1174d3f-a8c3-4638-af96-b035654579c3",
   "metadata": {},
   "outputs": [
    {
     "data": {
      "text/plain": [
       "array([0.49005132, 0.49005132, 0.49005132, ..., 0.49006381, 0.49006381,\n",
       "       0.49006381])"
      ]
     },
     "execution_count": 97,
     "metadata": {},
     "output_type": "execute_result"
    }
   ],
   "source": [
    "# full_u[:, 20]"
   ]
  },
  {
   "cell_type": "code",
   "execution_count": 106,
   "id": "7938ff57-6eb3-4a88-8d2a-19be8b1d61d0",
   "metadata": {},
   "outputs": [
    {
     "data": {
      "text/plain": [
       "0.00019999999999997797"
      ]
     },
     "execution_count": 106,
     "metadata": {},
     "output_type": "execute_result"
    }
   ],
   "source": [
    "# equidistant_val_array(-1., 1., 10001)[1] - equidistant_val_array(-1., 1., 10001)[0]\n",
    "# equidistant_val_array(-1., 1., 10000)\n",
    "# equidistant_val_array(-1., 1., 10001)[0]"
   ]
  },
  {
   "cell_type": "code",
   "execution_count": 99,
   "id": "b5e5d9a2-6f43-4680-9391-23bb19d45bf6",
   "metadata": {},
   "outputs": [
    {
     "data": {
      "text/plain": [
       "0.0002"
      ]
     },
     "execution_count": 99,
     "metadata": {},
     "output_type": "execute_result"
    }
   ],
   "source": [
    "# 2/(10001-1)"
   ]
  },
  {
   "cell_type": "code",
   "execution_count": 75,
   "id": "a7e66f24-104f-40eb-b9ca-50c2a817c51a",
   "metadata": {},
   "outputs": [],
   "source": [
    "# full_a.head(2)"
   ]
  },
  {
   "cell_type": "code",
   "execution_count": 54,
   "id": "273644b8-3fc0-41c1-b436-e3a3b6fbcb6b",
   "metadata": {},
   "outputs": [
    {
     "data": {
      "text/plain": [
       "[<matplotlib.lines.Line2D at 0x7f35a79a1950>]"
      ]
     },
     "execution_count": 54,
     "metadata": {},
     "output_type": "execute_result"
    },
    {
     "data": {
      "image/png": "[encoded data removed]",
      "text/plain": [
       "<Figure size 640x480 with 1 Axes>"
      ]
     },
     "metadata": {},
     "output_type": "display_data"
    }
   ],
   "source": [
    "plt.plot(equidistant_val_array(-1, 1, 10001), gen_burgers_fisher_sol(\n",
    "    -2, 0.0001, 2., t_max=5, n_pts=10001)[0])"
   ]
  },
  {
   "cell_type": "code",
   "execution_count": 71,
   "id": "a03194a7-39b6-4b55-b61d-7a2f685a8206",
   "metadata": {},
   "outputs": [
    {
     "data": {
      "text/plain": [
       "[<matplotlib.lines.Line2D at 0x7f35cbe0be50>]"
      ]
     },
     "execution_count": 71,
     "metadata": {},
     "output_type": "execute_result"
    },
    {
     "data": {
      "image/png": "[encoded data removed]",
      "text/plain": [
       "<Figure size 640x480 with 1 Axes>"
      ]
     },
     "metadata": {},
     "output_type": "display_data"
    }
   ],
   "source": [
    "plt.plot(equidistant_val_array(-1, 1, 10001), res[4001])"
   ]
  },
  {
   "cell_type": "code",
   "execution_count": 9,
   "id": "e34fe2fd-0885-423a-9b9c-6ff0d6a1ccba",
   "metadata": {},
   "outputs": [
    {
     "name": "stdout",
     "output_type": "stream",
     "text": [
      "[[0.51249743 0.51249743 0.51249743 ... 0.51248494 0.51248494 0.51248494]]\n"
     ]
    }
   ],
   "source": [
    "# print(gen_burgers_fisher_sol(\n",
    "#             0.0001, 0.001, t_max=50, n_pts=10000))"
   ]
  },
  {
   "cell_type": "code",
   "execution_count": 56,
   "id": "5227437c-7066-4cdd-bf34-661175fbff1d",
   "metadata": {},
   "outputs": [],
   "source": [
    "np.savetxt(\n",
    "    'gen-burgers-fisher-t5-small-out.csv',\n",
    "    res,  # res.T,\n",
    "    # header=','.join([\"x\", \"y\", \"z\"]),\n",
    "    delimiter=',',\n",
    "    # fmt='%.0f',\n",
    "    comments='')"
   ]
  },
  {
   "cell_type": "code",
   "execution_count": 22,
   "id": "1a620303-d3bd-47b5-80d3-07a0b0d0f627",
   "metadata": {},
   "outputs": [],
   "source": [
    "# del res"
   ]
  }
 ],
 "metadata": {
  "kernelspec": {
   "display_name": "Python 3 (ipykernel)",
   "language": "python",
   "name": "python3"
  },
  "language_info": {
   "codemirror_mode": {
    "name": "ipython",
    "version": 3
   },
   "file_extension": ".py",
   "mimetype": "text/x-python",
   "name": "python",
   "nbconvert_exporter": "python",
   "pygments_lexer": "ipython3",
   "version": "3.11.6"
  }
 },
 "nbformat": 4,
 "nbformat_minor": 5
}
